{
 "metadata": {
  "name": "",
  "signature": "sha256:a64221573a48c5a2438f433b527204bbcb8892a4ad2028441a2b711356786b0f"
 },
 "nbformat": 3,
 "nbformat_minor": 0,
 "worksheets": [
  {
   "cells": [
    {
     "cell_type": "markdown",
     "metadata": {},
     "source": [
      "Leetcode191: Number of 1 Bits\n",
      "\n",
      "## \u9898\u76ee\u63cf\u8ff0\n",
      "\n",
      "\u6765\u6e90\uff1a[Number of 1 Bits](https://leetcode.com/problems/number-of-1-bits/)\n",
      "\n",
      ">Write a function that takes an unsigned integer and returns the number of \u20191' bits it has (also known as the Hamming weight).\n",
      "\n",
      ">For example, the 32-bit integer \u201911' has binary representation 00000000000000000000000000001011, so the function should return 3.\n",
      "\n",
      "## \u5206\u6790\n",
      "\n",
      "> \u5bf9\u4e8e\u7ed9\u5b9a\u7684\u65e0\u7b26\u53f7\u6574\u6570\uff0c\u5c06\u5176\u8f6c\u6210\u4e8c\u8fdb\u5236\u8868\u793a\u540e\uff0c\u7edf\u8ba1\u201c1\u201d\u51fa\u73b0\u7684\u4e2a\u6570\uff0c\u4e5f\u79f0\u4e3a\u6c49\u660e\u6743\u91cd\u3002\n",
      "\n",
      "> \u60f3\u65b9\u6cd5\u5c06\u5176\u88c5\u6210\u4e8c\u8fdb\u5236\u8868\u793a\uff0c\u7136\u540e\u904d\u5386\u7edf\u8ba11\u51fa\u73b0\u7684\u4e2a\u6570\u3002\n",
      "\n",
      "> C++\u5904\u7406\u601d\u8def\uff1aC++\u4e2d\u4f4d\u5904\u7406\u53ef\u4ee5\u91c7\u7528STL\u7684`bitset`\uff0c\u6bd4\u5982\u8981\u5c06\u4e00\u4e2a\u5bf9\u4e8e\u4e00\u4e2a\u65e0\u7b26\u53f7\u7684\u6574\u578b\u6570\u636e`n`\uff0c\u6211\u4eec\u91c7\u7528`std::bitset<sizeof(n)*8> x(n)`\u53ef\u4ee5\u5f88\u5bb9\u6613\u7684\u628a\u5b83\u8f6c\u6210\u4e8c\u8fdb\u5236\u8868\u793a\uff0c\u5e76\u4ee5\u6570\u7ec4\u7684\u5f62\u5f0f\u4fdd\u5b58\u5728`x`\u4e2d\u3002\n",
      "> Python\u5904\u7406\u601d\u8def\uff1a\u5728Python\u4e2d\uff0c\u6211\u4eec\u53ef\u4ee5\u8c03\u7528`.format(n)`\u5bf9\u6570\u503c\u8fdb\u884c\u683c\u5f0f\u5316\uff0c\u6bd4\u5982\u8981\u5c06\u4e0a\u9762\u65e0\u7b26\u53f7\u7684\u6574\u6570`n`\uff0c\u6211\u4eec\u53ef\u4ee5\u901a\u8fc7`'{0:032b}'.format(n)`\u4fbf\u53ef\u5c06`n`\u8f6c\u6210\u4e8c\u503c\u8fdb\u8868\u793a\uff0c\u5e76\u4ee5\u5b57\u7b26\u7684\u5f62\u5f0f\u4fdd\u5b58\u4e0b\u6765\uff0c\u5177\u4f53\u7684\u8be6\u89c1\u4e0b\u9762\u7684Python\u4ee3\u7801\u3002"
     ]
    },
    {
     "cell_type": "code",
     "collapsed": false,
     "input": [
      "import os\n",
      "\n",
      "class Solution:\n",
      "    # @param n, an integer\n",
      "    # @return an integer\n",
      "    def hammingWeight(self, n):\n",
      "        self.sum = 0\n",
      "        n_str = '{0:032b}'.format(n)\n",
      "        print n_str\n",
      "        for char in n_str:\n",
      "            self.sum = self.sum + int(char)\n",
      "        return self.sum\n",
      "\n",
      "if __name__ == '__main__':\n",
      "    Solver = Solution()\n",
      "    n = 11\n",
      "    print \"%d hamming weight is: %d\" %(n, Solver.hammingWeight(n))\n",
      "    os.system(\"pause\")"
     ],
     "language": "python",
     "metadata": {},
     "outputs": [
      {
       "output_type": "stream",
       "stream": "stdout",
       "text": [
        "00000000000000000000000000001011\n",
        "11 hamming weight is: 3\n"
       ]
      }
     ],
     "prompt_number": 17
    },
    {
     "cell_type": "code",
     "collapsed": false,
     "input": [],
     "language": "python",
     "metadata": {},
     "outputs": []
    }
   ],
   "metadata": {}
  }
 ]
}