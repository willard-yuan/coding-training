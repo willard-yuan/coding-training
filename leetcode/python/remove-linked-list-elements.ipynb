{
 "metadata": {
  "name": "",
  "signature": "sha256:b6911cfbe01abeb0c00409c2d634cfc3790b5bc6729c72c39a7e0581f1d742f4"
 },
 "nbformat": 3,
 "nbformat_minor": 0,
 "worksheets": [
  {
   "cells": [
    {
     "cell_type": "markdown",
     "metadata": {},
     "source": [
      "## \u9898\u76ee\u63cf\u8ff0\n",
      "\u6765\u6e90\uff1a[Remove Linked List Elements](https://leetcode.com/problems/remove-linked-list-elements/)\n",
      "\n",
      ">Remove all elements from a linked list of integers that have value val.\n",
      "\n",
      ">Example\n",
      "\n",
      ">Given: 1 --> 2 --> 6 --> 3 --> 4 --> 5 --> 6, val = 6\n",
      "\n",
      ">Return: 1 --> 2 --> 3 --> 4 --> 5\n",
      "\n",
      "## \u5206\u6790\n",
      ">\u7ed9\u5b9a\u503c\uff0c\u5220\u9664\u94fe\u8868\u4e2d\u5305\u542b\u8be5\u503c\u7684\u8282\u70b9\u3002\u4e0a\u9762\u7ed9\u51fa\u7684\u4f8b\u5b50\u4e2d\uff0c\u8981\u6c42\u5220\u9664\u94fe\u8868\u4e2d\u5305\u542b\u6709\u6574\u65706\u7684\u8282\u70b9\uff0c\u5220\u9664\u5b8c\u540e\uff0c\u94fe\u8868\u4e2d\u4e0d\u5728\u5305\u542b\u6570\u5b576\u3002\u8fd9\u4e2a\u76f4\u63a5\u4ece\u94fe\u8868\u8868\u5934\u987a\u5e8f\u904d\u5386\u5230\u8868\u5c3e\u5373\u53ef\u3002\n",
      "\n",
      "## \u4ee3\u7801\n",
      "\n",
      "python\u4ee3\u7801"
     ]
    },
    {
     "cell_type": "code",
     "collapsed": false,
     "input": [
      "import os\n",
      "\n",
      "# Definition for singly-linked list.\n",
      "class ListNode:\n",
      "     def __init__(self, x):\n",
      "         self.val = x\n",
      "         self.next = None\n",
      "\n",
      "class Solution:\n",
      "    #@param {ListNode} head\n",
      "    #@param {integer} val\n",
      "    #@return {ListNode}\n",
      "    def removeElements(self, head, val):\n",
      "        while (head != None) and (head.val == val):\n",
      "            head = head.next\n",
      "        if head == None:\n",
      "            return None\n",
      "        pre = head\n",
      "        cur = head.next\n",
      "        while cur != None:\n",
      "            if cur.val == val:\n",
      "                pre.next = pre.next.next\n",
      "            else:\n",
      "                pre = pre.next\n",
      "            cur = cur.next\n",
      "\n",
      "        return head\n",
      "\n",
      "def printList(head):\n",
      "    # @param {ListNode} head\n",
      "    while head != None:\n",
      "        print '%s->' % head.val,\n",
      "        head = head.next\n",
      "    print '\\n' # print '\\n'\n",
      "\n",
      "if __name__ == '__main__':\n",
      "    node1 = ListNode(1)\n",
      "    node2 = ListNode(2)\n",
      "    node3 = ListNode(1)\n",
      "    node4 = ListNode(2)\n",
      "    node1.next = node2\n",
      "    node2.next = node3\n",
      "    node3.next = node4\n",
      "\n",
      "    printList(node1) # print the origin list\n",
      "    Solver = Solution();\n",
      "    node1 = Solver.removeElements(node1, 1)\n",
      "    printList(node1) # print the result list"
     ],
     "language": "python",
     "metadata": {},
     "outputs": [
      {
       "output_type": "stream",
       "stream": "stdout",
       "text": [
        "1-> 2-> 1-> 2-> \n",
        "\n",
        "2-> 2-> \n",
        "\n"
       ]
      }
     ],
     "prompt_number": 13
    },
    {
     "cell_type": "code",
     "collapsed": false,
     "input": [],
     "language": "python",
     "metadata": {},
     "outputs": []
    }
   ],
   "metadata": {}
  }
 ]
}