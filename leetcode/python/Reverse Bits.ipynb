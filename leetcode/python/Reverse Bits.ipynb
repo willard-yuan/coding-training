{
 "metadata": {
  "name": "",
  "signature": "sha256:bcb52e037d515a10f7a8af5eb5134ed2e222cc3b2c6d87ac9a788427eaa88c8f"
 },
 "nbformat": 3,
 "nbformat_minor": 0,
 "worksheets": [
  {
   "cells": [
    {
     "cell_type": "markdown",
     "metadata": {},
     "source": [
      "Leetcode190: Reverse Bits C++/Python\n",
      "\n",
      "## \u9898\u76ee\u63cf\u8ff0\n",
      "\n",
      "\u6765\u6e90\uff1a[Reverse Bits](https://leetcode.com/problems/reverse-bits/)\n",
      "\n",
      ">Reverse bits of a given 32 bits unsigned integer.\n",
      "\n",
      ">For example, given input 43261596 (represented in binary as 00000010100101000001111010011100), return 964176192 (represented in binary as 00111001011110000010100101000000).\n",
      "\n",
      ">Follow up:\n",
      ">If this function is called many times, how would you optimize it?\n",
      "\n",
      "## \u5206\u6790\n",
      "\n",
      "> \u5bf9\u4e8e\u7ed9\u5b9a\u7684\u65e0\u7b26\u53f7\u6574\u6570\uff0c\u5c06\u5176\u8f6c\u6210\u4e8c\u8fdb\u5236\u8868\u793a\u540e\uff0c\u5bf9\u4e8c\u8fdb\u5236\u8868\u793a\u7684\u6570\u8fdb\u884c\u9996\u5c3e\u53cd\u8f6c\uff0c\u7136\u540e\u8f6c\u6210\u5bf9\u5e94\u7684\u5341\u8fdb\u5236\u3002\n",
      "\n",
      "> \u60f3\u65b9\u6cd5\u5c06\u5176\u88c5\u6210\u4e8c\u8fdb\u5236\u8868\u793a\uff0c\u53cd\u8f6c\u540e\u518d\u5c06\u5176\u8868\u793a\u6210\u5341\u8fdb\u5236\u3002\u8fd9\u9053\u9898\u8ddf[Number of 1 Bits](http://geekinter.com/index.php/leetcode191-number-of-1-bits/)\u5728\u5904\u7406\u8fc7\u7a0b\u4e2d\u7c7b\u4f3c\uff0c\u53ea\u4e0d\u8fc7[Number of 1 Bits](http://geekinter.com/index.php/leetcode191-number-of-1-bits/)\u7684\u4efb\u52a1\u662f\u7edf\u8ba1\u201c1\u201d\u51fa\u73b0\u7684\u4e2a\u6570\uff0c\u800c\u8fd9\u91cc\u8981\u505a\u7684\u662f\u5bf9\u4e8c\u8fdb\u5236\u6570\u8fdb\u884c\u53cd\u8f6c\u3002\n",
      "\n",
      "> C++\u5904\u7406\u601d\u8def\uff1aC++\u4e2d\u4f4d\u5904\u7406\u53ef\u4ee5\u91c7\u7528STL\u7684`bitset`\uff0c\u6bd4\u5982\u8981\u5c06\u4e00\u4e2a\u5bf9\u4e8e\u4e00\u4e2a\u65e0\u7b26\u53f7\u7684\u6574\u578b\u6570\u636e`n`\uff0c\u6211\u4eec\u91c7\u7528`std::bitset<sizeof(n)*8> x(n)`\u53ef\u4ee5\u5f88\u5bb9\u6613\u7684\u628a\u5b83\u8f6c\u6210\u4e8c\u8fdb\u5236\u8868\u793a\uff0c\u5e76\u4ee5\u6570\u7ec4\u7684\u5f62\u5f0f\u4fdd\u5b58\u5728`x`\u4e2d\u3002\u5728\u8fdb\u884c\u9996\u5c3e\u4ea4\u6362\u7684\u65f6\u5019\uff0c\u6709\u4e24\u79cd\u65b9\u6cd5: \n",
      "\n",
      "> \u65b9\u6cd5\u4e00\uff1a\u8bbe\u7f6e\u4e24\u4e2a\u6307\u9488\uff0c\u5206\u522b\u6307\u5411\u5934\u90e8\u548c\u5c3e\u90e8\uff0c\u7136\u540e\u5934\u6307\u9488\u5411\u5c3e\u90e8\u6e38\u8d70\uff0c\u800c\u5c3e\u6307\u9488\u5411\u5934\u90e8\u6e38\u8d70\uff0c\u8fd9\u6837\uff0c\u5f53\u4e24\u4e2a\u6307\u9488\u8d70\u5230\u4e86\u540c\u4e00\u4e2a\u4f4d\u7f6e\u540e\uff0c\u904d\u5386\u7ec8\u6b62\uff1b\n",
      "\n",
      "> \u65b9\u6cd5\u4e8c\uff1a\u53e6\u5916\u8bbe\u7f6e\u4e00\u4e2a`bitset<> test`\u53d8\u91cf\uff0c\u987a\u5e8f\u904d\u5386\u539f\u6765\u7684`x`\uff0c\u5728\u904d\u5386\u7684\u8fc7\u7a0b\u4e2d\uff0c\u5c06`x`\u524d\u9762\u7684\u6570\u636e\u653e\u5230`test`\u7684\u540e\u9762\uff0c\u800c\u540e\u9762\u7684\u653e\u5230`test`\u7684\u524d\u9762\u3002\u4e0b\u9762\u7684c++\u4ee3\u7801\uff0c\u6211\u4eec\u91c7\u7528\u8fd9\u79cd\u65b9\u6cd5\u3002\n",
      "\n",
      "> Python\u5904\u7406\u601d\u8def\uff1a\u5728Python\u4e2d\uff0c\u6211\u4eec\u53ef\u4ee5\u8c03\u7528`.format(n)`\u5bf9\u6570\u503c\u8fdb\u884c\u683c\u5f0f\u5316\uff0c\u6bd4\u5982\u8981\u5c06\u4e0a\u9762\u65e0\u7b26\u53f7\u7684\u6574\u6570`n`\uff0c\u6211\u4eec\u53ef\u4ee5\u901a\u8fc7`'{0:032b}'.format(n)`\u4fbf\u53ef\u5c06`n`\u8f6c\u6210\u4e8c\u503c\u8fdb\u8868\u793a\uff0c\u5e76\u4ee5\u5b57\u7b26\u7684\u5f62\u5f0f\u4fdd\u5b58\u4e0b\u6765\uff0c\u7136\u540e\u6211\u4eec\u53cd\u8f6c\u4e00\u4e0b\uff0c\u8fd9\u4e2a\u5728Python\u4e2d\u975e\u5e38\u7684\u5bb9\u6613\uff0c\u6700\u540e\u6211\u4eec\u5c06\u5176\u8f6c\u6210\u5341\u8fdb\u5236\u8868\u793a\uff0c\u5177\u4f53\u7684\u8bf7\u770b\u540e\u9762\u7684Python\u4ee3\u7801\u3002\n",
      "\n",
      "## \u4ee3\u7801\n",
      "\n",
      "C++\u4ee3\u7801\uff1a\n",
      "\n",
      "```cpp\n",
      "#include <iostream>\n",
      "#include <bitset>\n",
      "#include <cstdint>\n",
      "using namespace std;\n",
      "\n",
      "class Solution {\n",
      "public:\n",
      "    uint32_t reverseBits(uint32_t n) {\n",
      "        const int lengthBit_n = sizeof(n)*8;\n",
      "\t\tunsigned long tmp;\n",
      "\t\tint numTmp = n;\n",
      "        bitset<lengthBit_n> x(numTmp);\n",
      "\n",
      "\t\t/*\u590d\u5236\u7684\u601d\u60f3*/\n",
      "\t\tbitset<lengthBit_n> test;\n",
      "        for(int i=0;i<lengthBit_n;i++)\n",
      "        {\n",
      "           test[lengthBit_n-i-1] = x[i];\n",
      "        }\n",
      "\t\tint reverse_num = test.to_ulong();\n",
      "\n",
      "\t\tcout<<reverse_num<<endl;\n",
      "\t\treturn reverse_num;\n",
      "\t}\n",
      "};\n",
      "\n",
      "int main()\n",
      "{\n",
      "\tuint32_t n = 9;\n",
      "\tSolution Solver;\n",
      "\tint count = Solver.reverseBits(n);\n",
      "\tstd::cout<<n<<\" hamming weight is : \"<<count<<std::endl;\n",
      "\tsystem(\"pause\");\n",
      "}\n",
      "```"
     ]
    },
    {
     "cell_type": "code",
     "collapsed": false,
     "input": [
      "import os\n",
      "\n",
      "class Solution:\n",
      "    # @param n, an integer\n",
      "    # @return an integer\n",
      "    def reverseBits(self, n):\n",
      "        n_str = '{0:032b}'.format(n)\n",
      "        reversedStr = n_str[::-1]\n",
      "        reversedNum = int(reversedStr,2)\n",
      "        return reversedNum\n",
      "\n",
      "if __name__ == '__main__':\n",
      "    Solver = Solution()\n",
      "    n = 43261596\n",
      "    print \"%d afer reversing the number is: %d\" %(n, Solver.reverseBits(n))\n",
      "    os.system(\"pause\")"
     ],
     "language": "python",
     "metadata": {},
     "outputs": [
      {
       "output_type": "stream",
       "stream": "stdout",
       "text": [
        "43261596 afer reversing the number is: 964176192\n"
       ]
      }
     ],
     "prompt_number": 20
    },
    {
     "cell_type": "code",
     "collapsed": false,
     "input": [],
     "language": "python",
     "metadata": {},
     "outputs": []
    }
   ],
   "metadata": {}
  }
 ]
}